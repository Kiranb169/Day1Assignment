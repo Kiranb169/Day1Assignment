{
  "nbformat": 4,
  "nbformat_minor": 0,
  "metadata": {
    "colab": {
      "name": "UpgradeAssignmnetDay1.ipynb",
      "provenance": [],
      "toc_visible": true,
      "authorship_tag": "ABX9TyPkvGamKjKGW7rbP8eWPD4h",
      "include_colab_link": true
    },
    "kernelspec": {
      "name": "python3",
      "display_name": "Python 3"
    }
  },
  "cells": [
    {
      "cell_type": "markdown",
      "metadata": {
        "id": "view-in-github",
        "colab_type": "text"
      },
      "source": [
        "<a href=\"https://colab.research.google.com/github/Kiranb169/Day1Assignment/blob/main/UpgradeAssignmnetDay1.ipynb\" target=\"_parent\"><img src=\"https://colab.research.google.com/assets/colab-badge.svg\" alt=\"Open In Colab\"/></a>"
      ]
    },
    {
      "cell_type": "code",
      "metadata": {
        "id": "HA7Vsl3z0LZW"
      },
      "source": [
        ""
      ],
      "execution_count": null,
      "outputs": []
    },
    {
      "cell_type": "code",
      "metadata": {
        "id": "BjuhQId302Bj",
        "outputId": "ddf2f5f1-8e5f-408c-9ca9-329b77d125e9",
        "colab": {
          "base_uri": "https://localhost:8080/"
        }
      },
      "source": [
        "str=\"letsupgrade\"\n",
        "print(str.upper())"
      ],
      "execution_count": 3,
      "outputs": [
        {
          "output_type": "stream",
          "text": [
            "LETSUPGRADE\n"
          ],
          "name": "stdout"
        }
      ]
    },
    {
      "cell_type": "code",
      "metadata": {
        "id": "x1PjwAVk1dNk",
        "outputId": "f9c4e86e-5d30-4212-d7d8-2b665ea10c5c",
        "colab": {
          "base_uri": "https://localhost:8080/"
        }
      },
      "source": [
        "cp=float(input(\"Enter the cost price\"))\n",
        "sp=float(input(\"Enter the selling price\"))\n",
        "x=cp-sp\n",
        "if x<0:\n",
        "  print(\"loss\")\n",
        "elif x>0:\n",
        "  print(\"profit\")\n",
        "else:\n",
        "  print(\"Neither\")"
      ],
      "execution_count": 6,
      "outputs": [
        {
          "output_type": "stream",
          "text": [
            "Enter the cost price20\n",
            "Enter the selling price20\n",
            "Neither\n"
          ],
          "name": "stdout"
        }
      ]
    },
    {
      "cell_type": "code",
      "metadata": {
        "id": "Lxm8eJlp2Tjq",
        "outputId": "663e801c-9912-44c6-e6bd-9f878bcd4812",
        "colab": {
          "base_uri": "https://localhost:8080/"
        }
      },
      "source": [
        "Euro=int(input())\n",
        "print(Euro*80)"
      ],
      "execution_count": 9,
      "outputs": [
        {
          "output_type": "stream",
          "text": [
            "20\n",
            "1600\n"
          ],
          "name": "stdout"
        }
      ]
    }
  ]
}